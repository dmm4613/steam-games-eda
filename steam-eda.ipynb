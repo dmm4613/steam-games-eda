{
 "cells": [
  {
   "cell_type": "markdown",
   "metadata": {},
   "source": [
    "<span style='color:#c7d5e0'>\n",
    "<h1>Steam Games Library Analysis</h1>\n",
    "</span>\n",
    "\n",
    "Data from [Kaggle](https://www.kaggle.com/datasets/antonkozyriev/game-recommendations-on-steam)\n",
    "\n",
    "[Github](https://github.com/dmm4613/steam-games-eda)\n",
    "\n",
    "<span style='color:#66c0f4'>\n",
    "<h2> Outline </h2>\n",
    "<h3> Descriptive Analysis Questions </h3>\n",
    "<ol>\n",
    "<li> What operating system has the most playable games? </li>\n",
    "<li> What is the average price for games on steam? </li>\n",
    "<li> Which games have been played/reviewed the most? </li>\n",
    "<li> What games were released in 2020? </li>\n",
    "<li> How have games in 2020 been rated/received? </li>\n",
    "</ol>\n",
    "<h3> Inferential Analysis </h3>\n",
    "<h3> Recommendations </h3>\n",
    "</span>"
   ]
  },
  {
   "cell_type": "markdown",
   "metadata": {},
   "source": [
    "____\n",
    "\n",
    "<span style='color:#c7d5e0'>\n",
    "<h2> Descriptive Analysis </h2>\n",
    "</span>"
   ]
  },
  {
   "cell_type": "markdown",
   "metadata": {},
   "source": [
    "<span style='color:#c7d5e0'>\n",
    "<h3> Data intake and cleaning </h3>\n",
    "</span>"
   ]
  },
  {
   "cell_type": "code",
   "execution_count": 5,
   "metadata": {},
   "outputs": [],
   "source": [
    "import pandas as pd\n",
    "import numpy as nd\n",
    "from matplotlib import pyplot as plt\n",
    "from scipy import stats\n",
    "import seaborn as sns"
   ]
  },
  {
   "cell_type": "code",
   "execution_count": 3,
   "metadata": {},
   "outputs": [
    {
     "name": "stdout",
     "output_type": "stream",
     "text": [
      "<class 'pandas.core.frame.DataFrame'>\n",
      "RangeIndex: 50872 entries, 0 to 50871\n",
      "Data columns (total 13 columns):\n",
      " #   Column          Non-Null Count  Dtype  \n",
      "---  ------          --------------  -----  \n",
      " 0   app_id          50872 non-null  int64  \n",
      " 1   title           50872 non-null  object \n",
      " 2   date_release    50872 non-null  object \n",
      " 3   win             50872 non-null  bool   \n",
      " 4   mac             50872 non-null  bool   \n",
      " 5   linux           50872 non-null  bool   \n",
      " 6   rating          50872 non-null  object \n",
      " 7   positive_ratio  50872 non-null  int64  \n",
      " 8   user_reviews    50872 non-null  int64  \n",
      " 9   price_final     50872 non-null  float64\n",
      " 10  price_original  50872 non-null  float64\n",
      " 11  discount        50872 non-null  float64\n",
      " 12  steam_deck      50872 non-null  bool   \n",
      "dtypes: bool(4), float64(3), int64(3), object(3)\n",
      "memory usage: 3.7+ MB\n"
     ]
    }
   ],
   "source": [
    "df = pd.read_csv('data/games.csv')\n",
    "df.info()"
   ]
  },
  {
   "cell_type": "code",
   "execution_count": 4,
   "metadata": {},
   "outputs": [
    {
     "data": {
      "text/html": [
       "<div>\n",
       "<style scoped>\n",
       "    .dataframe tbody tr th:only-of-type {\n",
       "        vertical-align: middle;\n",
       "    }\n",
       "\n",
       "    .dataframe tbody tr th {\n",
       "        vertical-align: top;\n",
       "    }\n",
       "\n",
       "    .dataframe thead th {\n",
       "        text-align: right;\n",
       "    }\n",
       "</style>\n",
       "<table border=\"1\" class=\"dataframe\">\n",
       "  <thead>\n",
       "    <tr style=\"text-align: right;\">\n",
       "      <th></th>\n",
       "      <th>app_id</th>\n",
       "      <th>title</th>\n",
       "      <th>date_release</th>\n",
       "      <th>win</th>\n",
       "      <th>mac</th>\n",
       "      <th>linux</th>\n",
       "      <th>rating</th>\n",
       "      <th>positive_ratio</th>\n",
       "      <th>user_reviews</th>\n",
       "      <th>price_final</th>\n",
       "      <th>price_original</th>\n",
       "      <th>discount</th>\n",
       "      <th>steam_deck</th>\n",
       "    </tr>\n",
       "  </thead>\n",
       "  <tbody>\n",
       "    <tr>\n",
       "      <th>0</th>\n",
       "      <td>13500</td>\n",
       "      <td>Prince of Persia: Warrior Within™</td>\n",
       "      <td>2008-11-21</td>\n",
       "      <td>True</td>\n",
       "      <td>False</td>\n",
       "      <td>False</td>\n",
       "      <td>Very Positive</td>\n",
       "      <td>84</td>\n",
       "      <td>2199</td>\n",
       "      <td>9.99</td>\n",
       "      <td>9.99</td>\n",
       "      <td>0.0</td>\n",
       "      <td>True</td>\n",
       "    </tr>\n",
       "    <tr>\n",
       "      <th>1</th>\n",
       "      <td>22364</td>\n",
       "      <td>BRINK: Agents of Change</td>\n",
       "      <td>2011-08-03</td>\n",
       "      <td>True</td>\n",
       "      <td>False</td>\n",
       "      <td>False</td>\n",
       "      <td>Positive</td>\n",
       "      <td>85</td>\n",
       "      <td>21</td>\n",
       "      <td>2.99</td>\n",
       "      <td>2.99</td>\n",
       "      <td>0.0</td>\n",
       "      <td>True</td>\n",
       "    </tr>\n",
       "    <tr>\n",
       "      <th>2</th>\n",
       "      <td>113020</td>\n",
       "      <td>Monaco: What's Yours Is Mine</td>\n",
       "      <td>2013-04-24</td>\n",
       "      <td>True</td>\n",
       "      <td>True</td>\n",
       "      <td>True</td>\n",
       "      <td>Very Positive</td>\n",
       "      <td>92</td>\n",
       "      <td>3722</td>\n",
       "      <td>14.99</td>\n",
       "      <td>14.99</td>\n",
       "      <td>0.0</td>\n",
       "      <td>True</td>\n",
       "    </tr>\n",
       "    <tr>\n",
       "      <th>3</th>\n",
       "      <td>226560</td>\n",
       "      <td>Escape Dead Island</td>\n",
       "      <td>2014-11-18</td>\n",
       "      <td>True</td>\n",
       "      <td>False</td>\n",
       "      <td>False</td>\n",
       "      <td>Mixed</td>\n",
       "      <td>61</td>\n",
       "      <td>873</td>\n",
       "      <td>14.99</td>\n",
       "      <td>14.99</td>\n",
       "      <td>0.0</td>\n",
       "      <td>True</td>\n",
       "    </tr>\n",
       "    <tr>\n",
       "      <th>4</th>\n",
       "      <td>249050</td>\n",
       "      <td>Dungeon of the ENDLESS™</td>\n",
       "      <td>2014-10-27</td>\n",
       "      <td>True</td>\n",
       "      <td>True</td>\n",
       "      <td>False</td>\n",
       "      <td>Very Positive</td>\n",
       "      <td>88</td>\n",
       "      <td>8784</td>\n",
       "      <td>11.99</td>\n",
       "      <td>11.99</td>\n",
       "      <td>0.0</td>\n",
       "      <td>True</td>\n",
       "    </tr>\n",
       "  </tbody>\n",
       "</table>\n",
       "</div>"
      ],
      "text/plain": [
       "   app_id                              title date_release   win    mac  linux  \\\n",
       "0   13500  Prince of Persia: Warrior Within™   2008-11-21  True  False  False   \n",
       "1   22364            BRINK: Agents of Change   2011-08-03  True  False  False   \n",
       "2  113020       Monaco: What's Yours Is Mine   2013-04-24  True   True   True   \n",
       "3  226560                 Escape Dead Island   2014-11-18  True  False  False   \n",
       "4  249050            Dungeon of the ENDLESS™   2014-10-27  True   True  False   \n",
       "\n",
       "          rating  positive_ratio  user_reviews  price_final  price_original  \\\n",
       "0  Very Positive              84          2199         9.99            9.99   \n",
       "1       Positive              85            21         2.99            2.99   \n",
       "2  Very Positive              92          3722        14.99           14.99   \n",
       "3          Mixed              61           873        14.99           14.99   \n",
       "4  Very Positive              88          8784        11.99           11.99   \n",
       "\n",
       "   discount  steam_deck  \n",
       "0       0.0        True  \n",
       "1       0.0        True  \n",
       "2       0.0        True  \n",
       "3       0.0        True  \n",
       "4       0.0        True  "
      ]
     },
     "execution_count": 4,
     "metadata": {},
     "output_type": "execute_result"
    }
   ],
   "source": [
    "df.head()"
   ]
  },
  {
   "cell_type": "markdown",
   "metadata": {},
   "source": [
    "<span style='color:#c7d5e0'>\n",
    "<h3> What operating system has the most playable games? </h3>"
   ]
  },
  {
   "cell_type": "code",
   "execution_count": 7,
   "metadata": {},
   "outputs": [
    {
     "data": {
      "text/html": [
       "<div>\n",
       "<style scoped>\n",
       "    .dataframe tbody tr th:only-of-type {\n",
       "        vertical-align: middle;\n",
       "    }\n",
       "\n",
       "    .dataframe tbody tr th {\n",
       "        vertical-align: top;\n",
       "    }\n",
       "\n",
       "    .dataframe thead th {\n",
       "        text-align: right;\n",
       "    }\n",
       "</style>\n",
       "<table border=\"1\" class=\"dataframe\">\n",
       "  <thead>\n",
       "    <tr style=\"text-align: right;\">\n",
       "      <th></th>\n",
       "      <th>win</th>\n",
       "      <th>mac</th>\n",
       "      <th>linux</th>\n",
       "    </tr>\n",
       "  </thead>\n",
       "  <tbody>\n",
       "    <tr>\n",
       "      <th>0</th>\n",
       "      <td>True</td>\n",
       "      <td>False</td>\n",
       "      <td>False</td>\n",
       "    </tr>\n",
       "    <tr>\n",
       "      <th>1</th>\n",
       "      <td>True</td>\n",
       "      <td>False</td>\n",
       "      <td>False</td>\n",
       "    </tr>\n",
       "    <tr>\n",
       "      <th>2</th>\n",
       "      <td>True</td>\n",
       "      <td>True</td>\n",
       "      <td>True</td>\n",
       "    </tr>\n",
       "    <tr>\n",
       "      <th>3</th>\n",
       "      <td>True</td>\n",
       "      <td>False</td>\n",
       "      <td>False</td>\n",
       "    </tr>\n",
       "    <tr>\n",
       "      <th>4</th>\n",
       "      <td>True</td>\n",
       "      <td>True</td>\n",
       "      <td>False</td>\n",
       "    </tr>\n",
       "    <tr>\n",
       "      <th>...</th>\n",
       "      <td>...</td>\n",
       "      <td>...</td>\n",
       "      <td>...</td>\n",
       "    </tr>\n",
       "    <tr>\n",
       "      <th>50867</th>\n",
       "      <td>True</td>\n",
       "      <td>False</td>\n",
       "      <td>False</td>\n",
       "    </tr>\n",
       "    <tr>\n",
       "      <th>50868</th>\n",
       "      <td>True</td>\n",
       "      <td>False</td>\n",
       "      <td>False</td>\n",
       "    </tr>\n",
       "    <tr>\n",
       "      <th>50869</th>\n",
       "      <td>True</td>\n",
       "      <td>False</td>\n",
       "      <td>False</td>\n",
       "    </tr>\n",
       "    <tr>\n",
       "      <th>50870</th>\n",
       "      <td>True</td>\n",
       "      <td>False</td>\n",
       "      <td>False</td>\n",
       "    </tr>\n",
       "    <tr>\n",
       "      <th>50871</th>\n",
       "      <td>True</td>\n",
       "      <td>False</td>\n",
       "      <td>False</td>\n",
       "    </tr>\n",
       "  </tbody>\n",
       "</table>\n",
       "<p>50872 rows × 3 columns</p>\n",
       "</div>"
      ],
      "text/plain": [
       "        win    mac  linux\n",
       "0      True  False  False\n",
       "1      True  False  False\n",
       "2      True   True   True\n",
       "3      True  False  False\n",
       "4      True   True  False\n",
       "...     ...    ...    ...\n",
       "50867  True  False  False\n",
       "50868  True  False  False\n",
       "50869  True  False  False\n",
       "50870  True  False  False\n",
       "50871  True  False  False\n",
       "\n",
       "[50872 rows x 3 columns]"
      ]
     },
     "execution_count": 7,
     "metadata": {},
     "output_type": "execute_result"
    }
   ],
   "source": [
    "df_os = df[['win', 'mac', 'linux']]\n",
    "df_os"
   ]
  },
  {
   "cell_type": "code",
   "execution_count": 18,
   "metadata": {},
   "outputs": [],
   "source": [
    "custom_palette = ['#66c0f4', '#1b2838', '#2a475e', '#c7d5e0']"
   ]
  },
  {
   "cell_type": "code",
   "execution_count": 24,
   "metadata": {},
   "outputs": [
    {
     "data": {
      "image/png": "[encoded data removed]",
      "text/plain": [
       "<Figure size 720x432 with 1 Axes>"
      ]
     },
     "metadata": {},
     "output_type": "display_data"
    }
   ],
   "source": [
    "# Transform dataframe to long format\n",
    "df_long = df_os.melt(var_name='os', value_name='count')\n",
    "\n",
    "# Filter to include only True values\n",
    "df_true = df_long[df_long['count'] == True]\n",
    "\n",
    "\n",
    "sns.set(style=\"whitegrid\")\n",
    "\n",
    "plt.figure(figsize=(10,6))\n",
    "\n",
    "g = sns.countplot(data=df_true, x='os', palette=custom_palette)\n",
    "\n",
    "g.set_xlabel(\"Operating System\", fontsize=14)\n",
    "g.set_ylabel(\"Count of True Values\", fontsize=14)\n",
    "g.set_title(\"How Many Games Are Supported by Each Operating System\", fontsize=16)\n",
    "\n",
    "g.tick_params(axis='x', labelsize=12)\n",
    "g.tick_params(axis='y', labelsize=12)\n",
    "\n",
    "# Annotate each bar with the value count\n",
    "for p in g.patches:\n",
    "    g.annotate(format(p.get_height(), '.0f'),\n",
    "                (p.get_x() + p.get_width() / 2., p.get_height()),\n",
    "                ha = 'center', va = 'center',\n",
    "                xytext = (0, 9), textcoords = 'offset points',\n",
    "                fontsize=12, color='black')\n",
    "\n",
    "sns.despine()\n",
    "\n",
    "plt.show()"
   ]
  },
  {
   "cell_type": "markdown",
   "metadata": {},
   "source": [
    "<span style='color:#c7d5e0'>\n",
    "<p> There's a pretty distinct difference in the amount of games supported by each operating system. Windows OS is the clear standout </p>"
   ]
  },
  {
   "cell_type": "markdown",
   "metadata": {},
   "source": [
    "<span style='color:#c7d5e0'>\n",
    "<h3> What is the average price for games on steam? </h3>"
   ]
  },
  {
   "cell_type": "code",
   "execution_count": 25,
   "metadata": {},
   "outputs": [
    {
     "data": {
      "text/html": [
       "<div>\n",
       "<style scoped>\n",
       "    .dataframe tbody tr th:only-of-type {\n",
       "        vertical-align: middle;\n",
       "    }\n",
       "\n",
       "    .dataframe tbody tr th {\n",
       "        vertical-align: top;\n",
       "    }\n",
       "\n",
       "    .dataframe thead th {\n",
       "        text-align: right;\n",
       "    }\n",
       "</style>\n",
       "<table border=\"1\" class=\"dataframe\">\n",
       "  <thead>\n",
       "    <tr style=\"text-align: right;\">\n",
       "      <th></th>\n",
       "      <th>price_final</th>\n",
       "      <th>price_original</th>\n",
       "    </tr>\n",
       "  </thead>\n",
       "  <tbody>\n",
       "    <tr>\n",
       "      <th>0</th>\n",
       "      <td>9.99</td>\n",
       "      <td>9.99</td>\n",
       "    </tr>\n",
       "    <tr>\n",
       "      <th>1</th>\n",
       "      <td>2.99</td>\n",
       "      <td>2.99</td>\n",
       "    </tr>\n",
       "    <tr>\n",
       "      <th>2</th>\n",
       "      <td>14.99</td>\n",
       "      <td>14.99</td>\n",
       "    </tr>\n",
       "    <tr>\n",
       "      <th>3</th>\n",
       "      <td>14.99</td>\n",
       "      <td>14.99</td>\n",
       "    </tr>\n",
       "    <tr>\n",
       "      <th>4</th>\n",
       "      <td>11.99</td>\n",
       "      <td>11.99</td>\n",
       "    </tr>\n",
       "    <tr>\n",
       "      <th>...</th>\n",
       "      <td>...</td>\n",
       "      <td>...</td>\n",
       "    </tr>\n",
       "    <tr>\n",
       "      <th>50867</th>\n",
       "      <td>22.00</td>\n",
       "      <td>0.00</td>\n",
       "    </tr>\n",
       "    <tr>\n",
       "      <th>50868</th>\n",
       "      <td>40.00</td>\n",
       "      <td>0.00</td>\n",
       "    </tr>\n",
       "    <tr>\n",
       "      <th>50869</th>\n",
       "      <td>30.00</td>\n",
       "      <td>0.00</td>\n",
       "    </tr>\n",
       "    <tr>\n",
       "      <th>50870</th>\n",
       "      <td>17.00</td>\n",
       "      <td>0.00</td>\n",
       "    </tr>\n",
       "    <tr>\n",
       "      <th>50871</th>\n",
       "      <td>4.00</td>\n",
       "      <td>0.00</td>\n",
       "    </tr>\n",
       "  </tbody>\n",
       "</table>\n",
       "<p>50872 rows × 2 columns</p>\n",
       "</div>"
      ],
      "text/plain": [
       "       price_final  price_original\n",
       "0             9.99            9.99\n",
       "1             2.99            2.99\n",
       "2            14.99           14.99\n",
       "3            14.99           14.99\n",
       "4            11.99           11.99\n",
       "...            ...             ...\n",
       "50867        22.00            0.00\n",
       "50868        40.00            0.00\n",
       "50869        30.00            0.00\n",
       "50870        17.00            0.00\n",
       "50871         4.00            0.00\n",
       "\n",
       "[50872 rows x 2 columns]"
      ]
     },
     "execution_count": 25,
     "metadata": {},
     "output_type": "execute_result"
    }
   ],
   "source": [
    "df_prices = df[['price_final', 'price_original']]\n",
    "df_prices"
   ]
  },
  {
   "cell_type": "code",
   "execution_count": 26,
   "metadata": {},
   "outputs": [
    {
     "data": {
      "image/png": "[encoded data removed]",
      "text/plain": [
       "<Figure size 720x432 with 1 Axes>"
      ]
     },
     "metadata": {},
     "output_type": "display_data"
    }
   ],
   "source": [
    "# Calculate average prices\n",
    "avg_prices = df_prices.mean().reset_index()\n",
    "avg_prices.columns = ['price_type', 'average_price']\n",
    "\n",
    "# Set the seaborn style\n",
    "sns.set(style=\"whitegrid\")\n",
    "\n",
    "# Create the plot\n",
    "plt.figure(figsize=(10, 6))\n",
    "ax = sns.barplot(data=avg_prices, x='price_type', y='average_price', palette=custom_palette)\n",
    "\n",
    "# Add labels and title\n",
    "ax.set_xlabel(\"Price Type\", fontsize=14)\n",
    "ax.set_ylabel(\"Average Price (USD)\", fontsize=14)\n",
    "ax.set_title(\"Average Prices of Games on Steam\", fontsize=16)\n",
    "\n",
    "# Customize the tick parameters\n",
    "ax.tick_params(axis='x', labelsize=12)\n",
    "ax.tick_params(axis='y', labelsize=12)\n",
    "\n",
    "# Annotate each bar with the average price\n",
    "for p in ax.patches:\n",
    "    ax.annotate(format(p.get_height(), '.2f'),\n",
    "                (p.get_x() + p.get_width() / 2., p.get_height()),\n",
    "                ha = 'center', va = 'center',\n",
    "                xytext = (0, 9), textcoords = 'offset points',\n",
    "                fontsize=12, color='black')\n",
    "\n",
    "# Remove the top and right spines for a cleaner look\n",
    "sns.despine()\n",
    "\n",
    "# Show the plot\n",
    "plt.show()"
   ]
  },
  {
   "cell_type": "code",
   "execution_count": 37,
   "metadata": {},
   "outputs": [
    {
     "data": {
      "image/png": "[encoded data removed]",
      "text/plain": [
       "<Figure size 864x576 with 1 Axes>"
      ]
     },
     "metadata": {},
     "output_type": "display_data"
    }
   ],
   "source": [
    "\n",
    "# Transform the DataFrame to long format\n",
    "df_long = df_prices.melt(var_name='price_type', value_name='price')\n",
    "\n",
    "# Set the seaborn style\n",
    "sns.set(style=\"whitegrid\")\n",
    "\n",
    "# Create the plot\n",
    "plt.figure(figsize=(12, 8))\n",
    "ax = sns.boxplot(data=df_long, x='price_type', y='price', palette=custom_palette)\n",
    "\n",
    "# Add labels and title\n",
    "ax.set_xlabel(\"Price Type\", fontsize=14)\n",
    "ax.set_ylabel(\"Price (USD)\", fontsize=14)\n",
    "ax.set_title(\"Average, Max, and Min Prices of Games on Steam\", fontsize=16)\n",
    "\n",
    "# Customize the tick parameters\n",
    "ax.tick_params(axis='x', labelsize=12)\n",
    "ax.tick_params(axis='y', labelsize=12)\n",
    "\n",
    "# Annotate the highest value\n",
    "max_prices = df_long.groupby('price_type')['price'].max().reset_index()\n",
    "\n",
    "for i, row in max_prices.iterrows():\n",
    "    ax.text(i, row['price'], f'${row[\"price\"]:.2f}', \n",
    "            ha='left', va='bottom', fontsize=15, color='#2a475e', weight='bold')\n",
    "\n",
    "# Remove the top and right spines for a cleaner look\n",
    "sns.despine()\n",
    "\n",
    "# Show the plot\n",
    "plt.show()"
   ]
  },
  {
   "cell_type": "markdown",
   "metadata": {},
   "source": [
    "<span style='color:#c7d5e0'>\n",
    "<p> It's pretty crazy how the average price for both original and sale price sits at ~$8.60 - $8.70, whereas there are some insane outliers. A $299.99 game? Let's just pull up what game that is.</p>"
   ]
  },
  {
   "cell_type": "code",
   "execution_count": 46,
   "metadata": {},
   "outputs": [
    {
     "name": "stdout",
     "output_type": "stream",
     "text": [
      "Clickteam Fusion 2.5 Developer Upgrade\n"
     ]
    }
   ],
   "source": [
    "filtered_df = df[df['price_final'] == 299.99]\n",
    "\n",
    "titles = filtered_df['title'].unique()\n",
    "print(titles[0])"
   ]
  },
  {
   "cell_type": "markdown",
   "metadata": {},
   "source": [
    "<img src='images/click-fusion.png'>"
   ]
  },
  {
   "cell_type": "markdown",
   "metadata": {},
   "source": [
    "<span style='color:#c7d5e0'>\n",
    "<p> Clickteam Fusion 2.5 Developer Upgrade. And this is the DLC</p>"
   ]
  }
 ],
 "metadata": {
  "kernelspec": {
   "display_name": "learn-env",
   "language": "python",
   "name": "python3"
  },
  "language_info": {
   "codemirror_mode": {
    "name": "ipython",
    "version": 3
   },
   "file_extension": ".py",
   "mimetype": "text/x-python",
   "name": "python",
   "nbconvert_exporter": "python",
   "pygments_lexer": "ipython3",
   "version": "3.8.5"
  }
 },
 "nbformat": 4,
 "nbformat_minor": 2
}
